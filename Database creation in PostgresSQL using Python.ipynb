{
 "cells": [
  {
   "cell_type": "code",
   "execution_count": 1,
   "id": "f9331cac",
   "metadata": {
    "scrolled": true
   },
   "outputs": [
    {
     "name": "stdout",
     "output_type": "stream",
     "text": [
      "Collecting psycopg2\n",
      "  Downloading psycopg2-2.9.5-cp39-cp39-win_amd64.whl (1.2 MB)\n",
      "Installing collected packages: psycopg2\n",
      "Successfully installed psycopg2-2.9.5\n"
     ]
    }
   ],
   "source": [
    "!pip install psycopg2"
   ]
  },
  {
   "cell_type": "code",
   "execution_count": 2,
   "id": "0a447160",
   "metadata": {},
   "outputs": [],
   "source": [
    "import psycopg2"
   ]
  },
  {
   "cell_type": "markdown",
   "id": "8a8aed49",
   "metadata": {},
   "source": [
    "### Creating connection to the database"
   ]
  },
  {
   "cell_type": "code",
   "execution_count": 3,
   "id": "3e3833d3",
   "metadata": {},
   "outputs": [],
   "source": [
    "try:\n",
    "    conn = psycopg2.connect(\"host=127.0.0.1 dbname=postgres user = postgres password=admin\")\n",
    "except psycopg2.error as e:\n",
    "    print(\"Error: Could not make connection to the Postgres database\")\n",
    "    print(e)"
   ]
  },
  {
   "cell_type": "markdown",
   "id": "35e27cfc",
   "metadata": {},
   "source": [
    "### use the connection to get a cursor that can eb used to execute queries"
   ]
  },
  {
   "cell_type": "code",
   "execution_count": 5,
   "id": "363464d1",
   "metadata": {},
   "outputs": [],
   "source": [
    "try:\n",
    "    cur = conn.cursor()\n",
    "except psycopg2.Error as e:\n",
    "    print(\"Error: Could not get cursor to the Database\")\n",
    "    print(e)"
   ]
  },
  {
   "cell_type": "markdown",
   "id": "880680ee",
   "metadata": {},
   "source": [
    "### Set automatic coomit to be true so that each action is comitted without having to call conn.commit() after each command"
   ]
  },
  {
   "cell_type": "code",
   "execution_count": 6,
   "id": "a3a97f2d",
   "metadata": {},
   "outputs": [],
   "source": [
    "conn.set_session(autocommit=True)"
   ]
  },
  {
   "cell_type": "markdown",
   "id": "8fbe2bdc",
   "metadata": {},
   "source": [
    "### Create a database to the the work in"
   ]
  },
  {
   "cell_type": "code",
   "execution_count": 7,
   "id": "9dca60fd",
   "metadata": {},
   "outputs": [],
   "source": [
    "try:\n",
    "    cur.execute(\"create database firstDB\")\n",
    "except psycopg2.Error as e:\n",
    "    print(e)"
   ]
  },
  {
   "cell_type": "markdown",
   "id": "cb1a6957",
   "metadata": {},
   "source": [
    "### Add the databse name in the connect statement. Let's close our connection to the default database, reconnect to the Udacity database, and get a new cursor"
   ]
  },
  {
   "cell_type": "code",
   "execution_count": 9,
   "id": "ea1e1350",
   "metadata": {},
   "outputs": [],
   "source": [
    "try:\n",
    "    conn.close()\n",
    "except psycopg2.Error as e:\n",
    "    print(e)\n",
    "try:\n",
    "    conn = psycopg2.connect(\"host=127.0.0.1 dbname=firstdb user=postgres password=admin\")\n",
    "except psycopg2.Error as e:\n",
    "    print(\"Error: Could not make connection to the Postgres database\")\n",
    "    print(e)\n",
    "try:\n",
    "    cur = conn.cursor()\n",
    "except psycopg2.Error as e:\n",
    "    print(\"Error: Could not get cursor to the Database\")\n",
    "    print(e)\n",
    "conn.set_session(autocommit=True)"
   ]
  },
  {
   "cell_type": "markdown",
   "id": "a7540ea4",
   "metadata": {},
   "source": [
    "### Creating Table for students which includes below columns\n",
    "student_id\n",
    "name\n",
    "age\n",
    "gender\n",
    "subject\n",
    "marks"
   ]
  },
  {
   "cell_type": "code",
   "execution_count": 10,
   "id": "8201b028",
   "metadata": {},
   "outputs": [],
   "source": [
    "try:\n",
    "    cur.execute(\"CREATE TABLE IF NOT EXISTS students (student_id int, name varchar,\\\n",
    "    age int, gender varchar, subject varchar, marks int);\")\n",
    "except psycopg2.Error as e:\n",
    "    print(\"Error: Issue creating table\")\n",
    "    print(e)"
   ]
  },
  {
   "cell_type": "markdown",
   "id": "77cd204e",
   "metadata": {},
   "source": [
    "### Insert the following two rows in the student table\n",
    "First Row: 1, \"Raj\", 23, \"Male\", \"Python\", 85\n",
    "Second Row: 2, \"Simran\", 22, \"Female\", \"Python\", 86"
   ]
  },
  {
   "cell_type": "code",
   "execution_count": 12,
   "id": "4ad8d030",
   "metadata": {},
   "outputs": [],
   "source": [
    "try:\n",
    "    cur.execute(\"INSERT INTO students (student_id, name, age, gender, subject, marks) \\\n",
    "    VALUES (%s, %s, %s, %s, %s, %s)\", \\\n",
    "    (1, \"Raj\", 23, \"Male\", \"Python\", 85))\n",
    "except psycopg2.Error as e:\n",
    "    print(\"Error: Inserting Rows\")\n",
    "    print(e)\n",
    "    \n",
    "try:\n",
    "    cur.execute(\"INSERT INTO students (student_id, name, age, gender, subject, marks) \\\n",
    "    VALUES (%s, %s, %s, %s, %s, %s)\", \\\n",
    "    (2, \"Simran\", 22, \"Female\", \"Python\", 86))\n",
    "except psycopg2.Error as e:\n",
    "    print(\"Error: Inserting Rows\")\n",
    "    print(e)"
   ]
  },
  {
   "cell_type": "markdown",
   "id": "fc6ac6c8",
   "metadata": {},
   "source": [
    "### Validate your data was inserted into the table"
   ]
  },
  {
   "cell_type": "code",
   "execution_count": 14,
   "id": "ae93f504",
   "metadata": {},
   "outputs": [
    {
     "name": "stdout",
     "output_type": "stream",
     "text": [
      "(1, 'Raj', 23, 'Male', 'Python', 85)\n",
      "(2, 'Simran', 22, 'Female', 'Python', 86)\n"
     ]
    }
   ],
   "source": [
    "try:\n",
    "    cur.execute(\"SELECT * FROM students;\")\n",
    "except psycopg2.Error as e:\n",
    "    print(\"Error: select *\")\n",
    "    print(e)\n",
    "    \n",
    "row = cur.fetchone()\n",
    "while row:\n",
    "    print(row)\n",
    "    row = cur.fetchone()"
   ]
  },
  {
   "cell_type": "markdown",
   "id": "8185268b",
   "metadata": {},
   "source": [
    "### And Finally close your cursor and connection"
   ]
  },
  {
   "cell_type": "code",
   "execution_count": 15,
   "id": "40dd922d",
   "metadata": {},
   "outputs": [],
   "source": [
    "cur.close()\n",
    "conn.close()"
   ]
  },
  {
   "cell_type": "markdown",
   "id": "302e5543",
   "metadata": {},
   "source": [
    "### End of project "
   ]
  }
 ],
 "metadata": {
  "kernelspec": {
   "display_name": "Python 3 (ipykernel)",
   "language": "python",
   "name": "python3"
  },
  "language_info": {
   "codemirror_mode": {
    "name": "ipython",
    "version": 3
   },
   "file_extension": ".py",
   "mimetype": "text/x-python",
   "name": "python",
   "nbconvert_exporter": "python",
   "pygments_lexer": "ipython3",
   "version": "3.9.7"
  }
 },
 "nbformat": 4,
 "nbformat_minor": 5
}
